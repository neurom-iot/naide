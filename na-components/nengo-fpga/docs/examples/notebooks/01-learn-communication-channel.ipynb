{
 "cells": [
  {
   "cell_type": "markdown",
   "metadata": {},
   "source": [
    "# Learning a Communication Channel\n",
    "\n",
    "When using non-adaptive FPGA ensembles (i.e., the `learning_rate` is set to 0), the\n",
    "ensemble's decoded output function can be defined by providing the\n",
    "`FpgaPesEnsembleNetwork` constructor with the `function` keyword (e.g., `function=lambda\n",
    "t: sin(t)`). Adaptive (learning) FPGA ensembles augment this feature by allowing the use\n",
    "of error-driving learning to compute these function in an \"online\" manner."
   ]
  },
  {
   "cell_type": "markdown",
   "metadata": {},
   "source": [
    "## Step 1: Set up the Python Imports"
   ]
  },
  {
   "cell_type": "code",
   "execution_count": null,
   "metadata": {},
   "outputs": [],
   "source": [
    "%matplotlib inline\n",
    "import matplotlib.pyplot as plt\n",
    "import numpy as np\n",
    "\n",
    "import nengo\n",
    "from nengo.processes import WhiteSignal\n",
    "\n",
    "import nengo_fpga\n",
    "from nengo_fpga.networks import FpgaPesEnsembleNetwork"
   ]
  },
  {
   "cell_type": "markdown",
   "metadata": {},
   "source": [
    "## Step 2: Choose an FPGA Device\n",
    "\n",
    "Define the FPGA device on which the remote FpgaPesEnsembleNetwork will run. This name\n",
    "corresponds with the name in your `fpga_config` file. Recall that in the `fpga_config`\n",
    "file, device names are identified by the square brackets (e.g., **[de1]** or\n",
    "**[pynq]**). The names defined in your configuration file might differ from the example\n",
    "below. Here, the device **de1** is being used."
   ]
  },
  {
   "cell_type": "code",
   "execution_count": null,
   "metadata": {},
   "outputs": [],
   "source": [
    "board = \"de1\"  # Change this to your desired device name"
   ]
  },
  {
   "cell_type": "markdown",
   "metadata": {},
   "source": [
    "## Step 3: Create the Remote FPGA Neural Ensemble\n",
    "\n",
    "Create a remote FPGA neural ensemble (`FpgaPesEnsembleNetwork`) using the board defined\n",
    "above, 100 neurons, 1 dimension, and a learning rate of `5e-5`."
   ]
  },
  {
   "cell_type": "code",
   "execution_count": null,
   "metadata": {},
   "outputs": [],
   "source": [
    "# Create a nengo network object to which we can add\n",
    "# ensembles, connections, etc.\n",
    "model = nengo.Network(label=\"Learned Communication Channel\")\n",
    "\n",
    "with model:\n",
    "    # Remote FPGA neural ensemble\n",
    "    fpga_ens = FpgaPesEnsembleNetwork(\n",
    "        board,  # The board to use (from above)\n",
    "        n_neurons=100,  # The number of neurons to use in the ensemble\n",
    "        # Number of dimensions for the ensemble to represent\n",
    "        dimensions=1,\n",
    "        learning_rate=5e-5,  # Desired learning rate\n",
    "        # Provide a random function as initialization\n",
    "        function=lambda x: np.random.random(x.shape),\n",
    "    )\n",
    "\n",
    "    # Uncomment the following line to use spiking neuron\n",
    "    # fpga_ens.ensemble.neuron_type = nengo.SpikingRectifiedLinear()"
   ]
  },
  {
   "cell_type": "markdown",
   "metadata": {},
   "source": [
    "## Step 4: Provide Input to the Ensemble\n",
    "\n",
    "Create an input node that generates a white-noise signal. This is what will be used to\n",
    "demonstrate the efficacy of the learning."
   ]
  },
  {
   "cell_type": "code",
   "execution_count": null,
   "metadata": {},
   "outputs": [],
   "source": [
    "with model:\n",
    "    # White-noise reference signal\n",
    "    input_node = nengo.Node(WhiteSignal(60, high=5))"
   ]
  },
  {
   "cell_type": "markdown",
   "metadata": {},
   "source": [
    "## Step 5: Connect the Input to the FPGA Ensemble\n",
    "\n",
    "The FPGA ensemble contains `input` and `output` attributes to allow connections to be\n",
    "made to and from the ensemble."
   ]
  },
  {
   "cell_type": "code",
   "execution_count": null,
   "metadata": {},
   "outputs": [],
   "source": [
    "with model:\n",
    "    # Connect the input to the FPGA ensemble\n",
    "    nengo.Connection(input_node, fpga_ens.input)"
   ]
  },
  {
   "cell_type": "markdown",
   "metadata": {},
   "source": [
    "## Step 6: Add Probes to Collect Data"
   ]
  },
  {
   "cell_type": "code",
   "execution_count": null,
   "metadata": {},
   "outputs": [],
   "source": [
    "with model:\n",
    "    # The original input\n",
    "    input_p = nengo.Probe(input_node, synapse=0.01)\n",
    "\n",
    "    # The output from the FPGA ensemble\n",
    "    # (filtered with a 10ms post-synaptic filter)\n",
    "    output_p = nengo.Probe(fpga_ens.output, synapse=0.01)"
   ]
  },
  {
   "cell_type": "markdown",
   "metadata": {},
   "source": [
    "## Step 7: Test the Model Without Learning\n",
    "\n",
    "In Step 5, only the connection between the input signal and the FPGA ensemble was made.\n",
    "Without a learning signal connected to the FPGA ensemble, the ensemble will behave as if\n",
    "the learning was disabled. To demonstrate this, run the model as it is, and plot the\n",
    "output. From the output graph, it should be apparent that the FPGA ensemble does not\n",
    "compute a useful value."
   ]
  },
  {
   "cell_type": "code",
   "execution_count": null,
   "metadata": {},
   "outputs": [],
   "source": [
    "with nengo_fpga.Simulator(model) as sim:\n",
    "    sim.run(10)"
   ]
  },
  {
   "cell_type": "code",
   "execution_count": null,
   "metadata": {},
   "outputs": [],
   "source": [
    "# Plot figure\n",
    "plt.figure(figsize=(16, 8))\n",
    "plt.plot(sim.trange(), sim.data[input_p], c=\"k\", label=\"Input\")\n",
    "plt.plot(sim.trange(), sim.data[output_p], c=\"r\", label=\"FPGA Output\")\n",
    "plt.ylim(-1.5, 1.5)\n",
    "plt.legend(loc=\"upper right\")\n",
    "plt.xlabel(\"Sim time (s)\")\n",
    "plt.title(\"Random Initialization Without Learning\")\n",
    "plt.show()"
   ]
  },
  {
   "cell_type": "markdown",
   "metadata": {},
   "source": [
    "## Step 8: Add Learning\n",
    "\n",
    "The adaptive component of the FPGA ensemble works by implementing the `nengo.PES`\n",
    "learning rule. The `nengo.PES` learning rule in turn requires an error signal to\n",
    "function correctly. In this example, the error signal will be computed such that the\n",
    "FPGA ensemble learns to behave like a communication channel.\n",
    "\n",
    "Mathematically, the error signal $e$ can be defined as:\n",
    "\n",
    "$$e = \\hat{x} - x,$$\n",
    "\n",
    "where $x$ is the reference signal (target value), and $\\hat{x}$ is the output of the\n",
    "FPGA ensemble (actual value).\n",
    "\n",
    "To represent (and compute) the error signal in the Nengo model, an additional (non-FPGA)\n",
    "neural ensemble is required. Connections are made to this ensemble with the appropriate\n",
    "transformations to perform the subtraction function.\n",
    "\n",
    "Finally, the output of the error ensemble is connected to the `error` attribute of the\n",
    "`fpga_ens`, and this provides the FPGA ensemble with the appropriate error signal."
   ]
  },
  {
   "cell_type": "code",
   "execution_count": null,
   "metadata": {},
   "outputs": [],
   "source": [
    "with model:\n",
    "    # Create a neural ensemble to calculate the error signal\n",
    "    error = nengo.Ensemble(60, dimensions=1)\n",
    "\n",
    "    # Compute the error (error = actual - target) using transforms\n",
    "    # on the connections to the error ensemble\n",
    "    nengo.Connection(fpga_ens.output, error)\n",
    "    nengo.Connection(input_node, error, transform=-1)\n",
    "\n",
    "    # Project error to the adaptive neural ensemble on the FPGA\n",
    "    nengo.Connection(error, fpga_ens.error)\n",
    "\n",
    "    # Add a probe of the error signal\n",
    "    error_p = nengo.Probe(error, synapse=0.03)"
   ]
  },
  {
   "cell_type": "markdown",
   "metadata": {},
   "source": [
    "The effect the adaptation has on the behaviour of the FPGA ensemble can now be\n",
    "demonstrated by running the model, and plotting the results."
   ]
  },
  {
   "cell_type": "code",
   "execution_count": null,
   "metadata": {},
   "outputs": [],
   "source": [
    "with nengo_fpga.Simulator(model) as sim:\n",
    "    sim.run(10)"
   ]
  },
  {
   "cell_type": "code",
   "execution_count": null,
   "metadata": {},
   "outputs": [],
   "source": [
    "plt.figure(figsize=(16, 10))\n",
    "plt.subplot(2, 1, 1)\n",
    "plt.plot(sim.trange(), sim.data[input_p], c=\"k\", label=\"Input\")\n",
    "plt.plot(sim.trange(), sim.data[output_p], c=\"r\", label=\"FPGA Output\")\n",
    "plt.ylim(-1.5, 1.5)\n",
    "plt.legend(loc=\"upper right\")\n",
    "plt.title(\"Random Initialization With Learning\")\n",
    "\n",
    "plt.subplot(2, 1, 2)\n",
    "plt.plot(sim.trange(), sim.data[error_p], c=\"b\", label=\"Error\")\n",
    "plt.ylim(-1, 1)\n",
    "plt.xlabel(\"Sim time\")\n",
    "plt.legend(loc=\"upper right\")\n",
    "plt.title(\"Value of Error Signal\")\n",
    "plt.show()"
   ]
  },
  {
   "cell_type": "markdown",
   "metadata": {},
   "source": [
    "The plot above show that with the learning enabled, the output of the FPGA ensemble\n",
    "(red) slowly adapts to match the reference white noise signal (black). Additionally, it\n",
    "is observed that as the simulation progresses, the value of the error signal (blue)\n",
    "gradually decreases."
   ]
  },
  {
   "cell_type": "markdown",
   "metadata": {},
   "source": [
    "## Does it generalize?\n",
    "\n",
    "The adaptive FPGA ensemble will continually adapt it's decoded output as long as an\n",
    "error signal is provided (i.e., it will always work to minimize the value of the error\n",
    "signal). However, an important consideration is figure out if the FPGA ensemble has\n",
    "learned general communication channel function. That is to say, has the FPGA ensemble\n",
    "learned the communication channel function across a range of inputs, or has it only\n",
    "adapted to the specific sequence of input it has been shown.\n",
    "\n",
    "If the FPGA ensemble has computed a generalized function, it should still function as a\n",
    "communication channel when the learning is disabled. To disable the learning, the\n",
    "activity of the `error` ensemble can be inhibited, thus providing no error signal. In\n",
    "the code below, an inhibitory connection is made to the `error` ensemble that inhibits\n",
    "it after the simulation has run for 10 seconds."
   ]
  },
  {
   "cell_type": "code",
   "execution_count": null,
   "metadata": {},
   "outputs": [],
   "source": [
    "def inhibit(t):\n",
    "    return 5.0 if t > 10.0 else 0.0\n",
    "\n",
    "\n",
    "with model:\n",
    "    inhib = nengo.Node(inhibit)\n",
    "    nengo.Connection(inhib, error.neurons, transform=[[-1]] * error.n_neurons)"
   ]
  },
  {
   "cell_type": "markdown",
   "metadata": {},
   "source": [
    "With the inhibitory connection made, the model can be run (for 16 seconds this time --\n",
    "the first 10 seconds of which the FPGA ensemble is learning, followed by 6 seconds where\n",
    "the `error` ensemble is inhibited)."
   ]
  },
  {
   "cell_type": "code",
   "execution_count": null,
   "metadata": {},
   "outputs": [],
   "source": [
    "with nengo_fpga.Simulator(model) as sim:\n",
    "    sim.run(16)"
   ]
  },
  {
   "cell_type": "code",
   "execution_count": null,
   "metadata": {},
   "outputs": [],
   "source": [
    "plt.figure(figsize=(16, 10))\n",
    "plt.subplot(2, 1, 1)\n",
    "plt.plot(sim.trange(), sim.data[input_p], c=\"k\", label=\"Input\")\n",
    "plt.plot(sim.trange(), sim.data[output_p], c=\"r\", label=\"FPGA Output\")\n",
    "plt.ylim(-1.5, 1.5)\n",
    "plt.legend(loc=\"upper right\")\n",
    "plt.plot([10, 10], [-1.5, 1.5], \"g--\")\n",
    "plt.title(\"Random Initialization With Learning\")\n",
    "\n",
    "plt.subplot(2, 1, 2)\n",
    "plt.plot(sim.trange(), sim.data[error_p], c=\"b\", label=\"Error\")\n",
    "plt.ylim(-1, 1)\n",
    "plt.xlabel(\"Sim time\")\n",
    "plt.legend(loc=\"upper right\")\n",
    "plt.plot([10, 10], [-1.5, 1.5], \"g--\")\n",
    "plt.title(\"Value of Error Signal\")\n",
    "plt.show()"
   ]
  },
  {
   "cell_type": "markdown",
   "metadata": {},
   "source": [
    "From the plots above, the following observations can be made:\n",
    "\n",
    "1. The output of the error ensemble (blue) goes to zero when it is inhibited.\n",
    "2. The FPGA ensemble continues to behave like a communication channel even after the\n",
    "learning is disabled (the green dotted line). This demonstrates that the FPGA ensemble\n",
    "has learned behave like a general communication channel."
   ]
  },
  {
   "cell_type": "markdown",
   "metadata": {},
   "source": [
    "## How Does This Work?\n",
    "\n",
    "Since many of the internal dynamics of the FPGA ensemble are not probable (for sake of\n",
    "performance), it is difficult to explore the details of the implementation here. Take a\n",
    "look at the\n",
    "[learn_communication_channel](https://www.nengo.ai/nengo/examples/learning/learn-communication-channel.html#How-does-this-work?)\n",
    "example built with standard Nengo for an explanation of the learning rule and how the\n",
    "connection weights changes as the learning rule is applied."
   ]
  }
 ],
 "metadata": {
  "anaconda-cloud": {},
  "language_info": {
   "name": "python",
   "pygments_lexer": "ipython3"
  }
 },
 "nbformat": 4,
 "nbformat_minor": 2
}
