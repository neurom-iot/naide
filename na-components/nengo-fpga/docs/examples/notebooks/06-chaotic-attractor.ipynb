{
 "cells": [
  {
   "cell_type": "markdown",
   "metadata": {},
   "source": [
    "# The Lorenz Chaotic Attractor\n",
    "\n",
    "This example show how a classical chaotic dynamical system (the Lorenz \"butterfly\"\n",
    "attractor) can be implemented in a neural population. The dynamical equations for this\n",
    "attractor are:\n",
    "$$\n",
    "\\begin{align}\n",
    "    \\dot{x}_0 &= \\sigma(x_1 - x_0) \\\\\n",
    "    \\dot{x}_1 &= x_0(\\rho - x_2) - x_1 \\\\\n",
    "    \\dot{x}_2 &= x_0 x_1 - \\beta x_2\n",
    "\\end{align}\n",
    "$$\n",
    "\n",
    "Since $x_2$ is approximately centered around $\\rho$, and because NEF ensembles are\n",
    "typically optimized to represent values within a pre-defined radius of the origin, we\n",
    "substitute $x'_2 = x_2 - \\rho$, yielding these equations:\n",
    "$$\n",
    "\\begin{align}\n",
    "    \\dot{x}_0 &= \\sigma(x_1 - x_0) \\\\\n",
    "    \\dot{x}_1 &= -x_0 x'_2 - x_1 \\\\\n",
    "    \\dot{x}'_2 &= x_0 x_1 - \\beta(x'_2 + \\rho) - \\rho\n",
    "\\end{align}\n",
    "$$\n",
    "\n",
    "As with the previous oscillator examples, an exponential synapse is being used to\n",
    "implement these dynamics, meaning that the neural feedback matrix is:\n",
    "$$\n",
    "\\mathbf{A}' = \\tau\\mathbf{A} + \\mathbf{I}\n",
    "$$\n",
    "\n",
    "Because the Lorenz attractor has no input signal $u$, this in turn means that the neural\n",
    "feedback function can be computed as:\n",
    "$$\n",
    "\\begin{align}\n",
    "    f_{fdbk}(x) &= \\mathbf{A}' x \\\\\n",
    "    &= \\tau\\mathbf{A}x + x \\\\\n",
    "    &= \\tau\\dot{x} + x \\\\\n",
    "    &= \\begin{bmatrix}\n",
    "           \\tau\\dot{x}_0 + x_0 \\\\\n",
    "           \\tau\\dot{x}_1 + x_1 \\\\\n",
    "           \\tau\\dot{x}'_2 + x_2\n",
    "       \\end{bmatrix}\n",
    "\\end{align}\n",
    "$$\n",
    "\n",
    "For more information, see [“Chris Eliasmith. A unified approach to building and\n",
    "controlling spiking attractor networks. Neural computation, 7(6):1276-1314,\n",
    "2005.”](http://compneuro.uwaterloo.ca/publications/eliasmith2005b.html)"
   ]
  },
  {
   "cell_type": "markdown",
   "metadata": {},
   "source": [
    "## Step 1: Set up the Python Imports"
   ]
  },
  {
   "cell_type": "code",
   "execution_count": null,
   "metadata": {},
   "outputs": [],
   "source": [
    "%matplotlib inline\n",
    "import matplotlib.pyplot as plt\n",
    "from IPython.display import HTML\n",
    "\n",
    "import nengo\n",
    "\n",
    "from mpl_toolkits.mplot3d import Axes3D\n",
    "\n",
    "from anim_utils import make_anim_chaotic\n",
    "\n",
    "import nengo_fpga\n",
    "from nengo_fpga.networks import FpgaPesEnsembleNetwork"
   ]
  },
  {
   "cell_type": "markdown",
   "metadata": {},
   "source": [
    "## Step 2: Choose an FPGA Device\n",
    "\n",
    "Define the FPGA device on which the remote FpgaPesEnsembleNetwork will run. This name\n",
    "corresponds with the name in your `fpga_config` file. Recall that in the `fpga_config`\n",
    "file, device names are identified by the square brackets (e.g., **[de1]** or\n",
    "**[pynq]**). The names defined in your configuration file might differ from the example\n",
    "below. Here, the device **de1** is being used."
   ]
  },
  {
   "cell_type": "code",
   "execution_count": null,
   "metadata": {},
   "outputs": [],
   "source": [
    "board = \"de1\"  # Change this to your desired device name"
   ]
  },
  {
   "cell_type": "markdown",
   "metadata": {},
   "source": [
    "## Step 3: Create the FPGA Ensemble\n",
    "\n",
    "Create a remote FPGA neural ensemble (`FpgaPesEnsembleNetwork`) using the board defined\n",
    "above, 2000 neurons, 3 dimensions, and with no learning rate. We will also specify the\n",
    "recurrent connection here."
   ]
  },
  {
   "cell_type": "code",
   "execution_count": null,
   "metadata": {},
   "outputs": [],
   "source": [
    "tau = 0.1  # Synaptic time constant\n",
    "\n",
    "# Lorenz attractor parameters\n",
    "sigma = 10\n",
    "beta = 8.0 / 3.0\n",
    "rho = 28\n",
    "\n",
    "with nengo.Network(label=\"Lorenz Attractor\") as model:\n",
    "    # Remote FPGA neural ensemble\n",
    "    fpga_ens = FpgaPesEnsembleNetwork(\n",
    "        board,  # The board to use (from above)\n",
    "        n_neurons=2000,  # The number of neurons to use in the ensemble\n",
    "        dimensions=3,  # 3 dimensions\n",
    "        learning_rate=0,  # No learning for this example\n",
    "        feedback=1,  # Activate the recurrent connection\n",
    "    )\n",
    "\n",
    "    # The representational space of the Lorenz attractor is pretty big,\n",
    "    # so adjust the radius of the neural ensemble appropriately.\n",
    "    fpga_ens.ensemble.radius = 50\n",
    "\n",
    "    # Setting `feedback=1` creates a `feedback` connection object\n",
    "    # with the identity transform. To implement the oscillator, it\n",
    "    # is necessary to set the transform on the feedback connection\n",
    "    # using .transform.\n",
    "    fpga_ens.feedback.synapse = tau  # `nengo.LowPass(tau)`\n",
    "\n",
    "    # Define the feedback function\n",
    "    def func_fdbk(x):\n",
    "        # These are the three variables represented by the ensemble\n",
    "        x0, x1, x2 = x\n",
    "\n",
    "        dx0 = sigma * (x1 - x0)\n",
    "        dx1 = -x0 * x2 - x1\n",
    "        dx2 = x0 * x1 - beta * (x2 + rho) - rho\n",
    "\n",
    "        return [tau * dx0 + x0, tau * dx1 + x1, tau * dx2 + x2]\n",
    "\n",
    "    # Assign the feedback function to the feedback connection\n",
    "    fpga_ens.feedback.function = func_fdbk"
   ]
  },
  {
   "cell_type": "markdown",
   "metadata": {},
   "source": [
    "## Step 4: Add Probes to Collect Data"
   ]
  },
  {
   "cell_type": "code",
   "execution_count": null,
   "metadata": {},
   "outputs": [],
   "source": [
    "with model:\n",
    "    # The output from the FPGA ensemble\n",
    "    # (filtered with a 10ms post-synaptic filter)\n",
    "    output_p = nengo.Probe(fpga_ens.output, synapse=0.01)"
   ]
  },
  {
   "cell_type": "markdown",
   "metadata": {},
   "source": [
    "## Step 5: Run the Model"
   ]
  },
  {
   "cell_type": "code",
   "execution_count": null,
   "metadata": {},
   "outputs": [],
   "source": [
    "with nengo_fpga.Simulator(model) as sim:\n",
    "    sim.run(20)"
   ]
  },
  {
   "cell_type": "markdown",
   "metadata": {},
   "source": [
    "## Step 8: Plot the Results"
   ]
  },
  {
   "cell_type": "code",
   "execution_count": null,
   "metadata": {},
   "outputs": [],
   "source": [
    "def plot_results():\n",
    "    plt.figure(figsize=(8, 12))\n",
    "    plt.subplot(211)\n",
    "    plt.plot(sim.trange(), sim.data[output_p])\n",
    "    plt.legend([\"$x_0$\", \"$x_1$\", \"$x_2$\"], loc=\"upper right\")\n",
    "    plt.xlabel(\"Time (s)\")\n",
    "\n",
    "    # Make 3D plot\n",
    "    ax = plt.subplot(212, projection=Axes3D.name)\n",
    "    ax.plot(*sim.data[output_p].T)\n",
    "    ax.set_title(\"3D Plot\")\n",
    "\n",
    "    plt.show()\n",
    "\n",
    "\n",
    "plot_results()"
   ]
  },
  {
   "cell_type": "markdown",
   "metadata": {},
   "source": [
    "The plots above show the decoded output of the oscillator exhibiting the dynamics of a\n",
    "Lorenz \"butterfly\" attractor. The 3D plot illustrates why this attractor is called a\n",
    "\"butterfly\" attractor.\n",
    "\n",
    "While a static plots are informative, an animated figure can be used to show how the\n",
    "Lorenz attractor evolves over time. It may take a moment to generate the animation."
   ]
  },
  {
   "cell_type": "code",
   "execution_count": null,
   "metadata": {},
   "outputs": [],
   "source": [
    "def make_anim():\n",
    "    _, _, anim = make_anim_chaotic(\n",
    "        sim.data[output_p][:, 0],\n",
    "        sim.data[output_p][:, 1],\n",
    "        sim.data[output_p][:, 2],\n",
    "        ms_per_frame=20,\n",
    "    )\n",
    "    return anim\n",
    "\n",
    "\n",
    "HTML(make_anim().to_html5_video())"
   ]
  },
  {
   "cell_type": "markdown",
   "metadata": {},
   "source": [
    "## Step 9: Spiking Neurons\n",
    "\n",
    "The plots above show the output of the Lorenz attractor network implemented with\n",
    "non-spiking rectified linear neurons. The network can also be simulated using spiking\n",
    "neurons to illustrate the similarities and differences between a spiking and a\n",
    "non-spiking network.\n",
    "\n",
    "Below, we configure the FPGA neural ensemble to use spiking neurons, run the simulation,\n",
    "and plot the results."
   ]
  },
  {
   "cell_type": "code",
   "execution_count": null,
   "metadata": {},
   "outputs": [],
   "source": [
    "with model:\n",
    "    fpga_ens.ensemble.neuron_type = nengo.SpikingRectifiedLinear()\n",
    "\n",
    "with nengo_fpga.Simulator(model) as sim:\n",
    "    sim.run(20)\n",
    "plot_results()"
   ]
  },
  {
   "cell_type": "code",
   "execution_count": null,
   "metadata": {},
   "outputs": [],
   "source": [
    "HTML(make_anim().to_html5_video())"
   ]
  },
  {
   "cell_type": "markdown",
   "metadata": {},
   "source": [
    "The plots above show that with spiking neurons, the output of the network is,\n",
    "expectedly, more noisy (less precise) than the results of the non-spiking network.\n",
    "However, despite this, the chaotic attractor network in its current configuration is\n",
    "stable, and exhibits the expected behaviour of the Lorenz attractor.\n",
    "\n",
    "It should be noted that the output of the spiking Lorenz attractor network differs from\n",
    "that of the non-spiking network because of two factors. First, every time the Nengo\n",
    "simulator is created, the network parameters are regenerated (randomized). Second,\n",
    "because the dynamics of the Lorenz attractor are extremely sensitive to the initial\n",
    "conditions of the network (which is what makes it chaotic), even if the spiking and\n",
    "non-spiking networks were generated with the same parameters, the additional noise\n",
    "introduced by the spikes cause the spiking output to diverge from the trajectory of the\n",
    "non-spiking network."
   ]
  },
  {
   "cell_type": "markdown",
   "metadata": {},
   "source": [
    "## Step 10: Experiment!\n",
    "\n",
    "Try playing around with the number of neurons in the FPGA ensemble as well as the\n",
    "synaptic time constant (`tau`) to see how it effects performance (e.g., observe how\n",
    "changing these numbers affect the stability of the oscillator)! Additionally, modify the\n",
    "parameters of the Lorenz attractor to see what effect it has on the shape of it. Be sure\n",
    "to run the simulation multiple times and observe if you can see any identical patterns\n",
    "(because the attractor is chaotic, every run should be different).\n",
    "\n",
    "Explore the deterministic (yet chaotic) nature of the Lorenz attractor network, by\n",
    "constructing the `FpgaPesEnsembleNetwork` with the `seed` parameter, and re-running this\n",
    "notebook. You should observe because the Lorenz attractor is deterministic, with a\n",
    "pre-set seed, every run of the notebook will produce identical results. However, because\n",
    "the attractor is chaotic (very sensitive to the recurrent activity in the network), the\n",
    "additional noise introduced by the spikes cause it to follow a different trajectory from\n",
    "the non-spiking network."
   ]
  }
 ],
 "metadata": {
  "language_info": {
   "name": "python",
   "pygments_lexer": "ipython3"
  }
 },
 "nbformat": 4,
 "nbformat_minor": 2
}
