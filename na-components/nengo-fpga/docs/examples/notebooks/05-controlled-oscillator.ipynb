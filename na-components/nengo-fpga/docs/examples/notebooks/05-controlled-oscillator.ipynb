{
 "cells": [
  {
   "cell_type": "markdown",
   "metadata": {},
   "source": [
    "# Controlled Oscillator\n",
    "\n",
    "In the simple harmonic oscillator example, the frequency of the oscillation had to be\n",
    "specified as part of the network structure and could not be changed as the network was\n",
    "running. This example demonstrates how the NEF can be used to construct a controllable\n",
    "oscillator, in which the frequency of the oscillation can be controlled with an\n",
    "additional input signal to the network.\n",
    "\n",
    "From the simple oscillator example, the neural equivalent of the input and feedback\n",
    "matrices can be computed as:\n",
    "$$\n",
    "\\begin{align}\n",
    "    \\mathbf{A}' &= \\tau\\mathbf{A} + \\mathbf{I} \\\\\n",
    "    &= \\tau\\begin{bmatrix}\n",
    "               0 && \\omega \\\\\n",
    "               -\\omega && 0\n",
    "           \\end{bmatrix} + \\mathbf{I} \\\\\n",
    "    &= \\begin{bmatrix}\n",
    "           1 && \\tau\\cdot\\omega \\\\\n",
    "           -\\tau\\cdot\\omega && 1\n",
    "       \\end{bmatrix}\n",
    "\\end{align}\n",
    "$$\n",
    "\n",
    "In an NEF network, the function the feedback is computing is state vector $x$ multiplied\n",
    "by the neural feedback matrix $\\mathbf{A}'$:\n",
    "$$\n",
    "\\begin{align}\n",
    "    f_{fdbk}(x) &= \\mathbf{A}'x \\\\\n",
    "    &= \\begin{bmatrix}\n",
    "           1 && \\tau\\cdot\\omega  \\\\\n",
    "           -\\tau\\cdot\\omega  && 1\n",
    "       \\end{bmatrix}x\n",
    "\\end{align}\n",
    "$$\n",
    "\n",
    "Since we want the speed of the oscillation to be a function of a provided input\n",
    "frequency $f$, we can use the substitution $\\omega = 2\\pi f$ to redefined the neural\n",
    "feedback function as a function of both $x$ and $f$:\n",
    "$$\n",
    "\\begin{align}\n",
    "    f_{fdbk}(x, f) &= \\mathbf{A}'x \\\\\n",
    "    &= \\begin{bmatrix}\n",
    "           1 && \\tau \\cdot 2\\pi f  \\\\\n",
    "           -\\tau \\cdot 2\\pi f  && 1\n",
    "       \\end{bmatrix}x\\\\\n",
    "    &= \\begin{bmatrix}\n",
    "           x_0 + \\tau \\cdot 2\\pi f \\cdot x_1 \\\\\n",
    "           x_1 -\\tau \\cdot 2\\pi f \\cdot x_0\n",
    "       \\end{bmatrix}\n",
    "\\end{align}\n",
    "$$\n",
    "\n",
    "In the NEF, all variables used in the computation of a function have to be represented\n",
    "in the same neural population. In order to do this for the controlled oscillator, a\n",
    "3-dimensional neural population is used, with the first two dimensions representing\n",
    "$x_0$ and $x_1$ respectively, and the last dimension ($x_2$) representing $f$. In doing\n",
    "this, the feedback function has to be modified slightly to account for the additional\n",
    "third dimension. Note that the last row of the feedback function is $0$ as the feedback\n",
    "should not have any effect on the representation of the speed state vector.\n",
    "$$\n",
    "\\begin{align}\n",
    "    f_{fdbk}(x)\n",
    "    &= \\begin{bmatrix}\n",
    "           x_0 + \\tau \\cdot 2\\pi \\cdot x_2 \\cdot x_1 \\\\\n",
    "           x_1 -\\tau \\cdot 2\\pi \\cdot x_2 \\cdot x_0 \\\\\n",
    "           0\n",
    "       \\end{bmatrix}\n",
    "\\end{align}\n",
    "$$\n",
    "\n",
    "Because all state variables are being represented by the neural ensemble, we generally\n",
    "want to keep the variables within the unit sphere. If $x_0 = x_1 = x_2$, a point on the\n",
    "surface of the unit sphere is when $x_0 = x_1 = x_2 = \\frac{1}{\\sqrt{3}}$. Thus, the\n",
    "frequency input to the oscillator should be scaled by $\\frac{1}{\\sqrt{3}}$, and the\n",
    "feedback function has to be modified to take this into account:\n",
    "$$\n",
    "\\begin{align}\n",
    "    f_{fdbk}(x)\n",
    "    &= \\begin{bmatrix}\n",
    "           x_0 + \\tau \\cdot 2\\pi \\cdot x_2 \\cdot \\sqrt{3} \\cdot x_1 \\\\\n",
    "           x_1 -\\tau \\cdot 2\\pi \\cdot x_2 \\cdot \\sqrt{3}  \\cdot x_0 \\\\\n",
    "           0\n",
    "       \\end{bmatrix}\n",
    "\\end{align}\n",
    "$$\n",
    "\n",
    "With these modifications, as long as the frequency input, $f$, is within $[-1, 1]$ Hz,\n",
    "$x_2$ should be within the desired range of $[-\\frac{1}{\\sqrt{3}}, \\frac{1}{\\sqrt{3}}]$.\n",
    "If you want to have a larger oscillation frequency, adapt this scaling factor\n",
    "appropriately."
   ]
  },
  {
   "cell_type": "markdown",
   "metadata": {},
   "source": [
    "## Step 1: Set up the Python Imports"
   ]
  },
  {
   "cell_type": "code",
   "execution_count": null,
   "metadata": {},
   "outputs": [],
   "source": [
    "%matplotlib inline\n",
    "import matplotlib.pyplot as plt\n",
    "import numpy as np\n",
    "\n",
    "from IPython.display import HTML\n",
    "\n",
    "import nengo\n",
    "from nengo.processes import Piecewise\n",
    "\n",
    "from anim_utils import make_anim_controlled_osc\n",
    "\n",
    "import nengo_fpga\n",
    "from nengo_fpga.networks import FpgaPesEnsembleNetwork"
   ]
  },
  {
   "cell_type": "markdown",
   "metadata": {},
   "source": [
    "## Step 2: Choose an FPGA Device\n",
    "\n",
    "Define the FPGA device on which the remote FpgaPesEnsembleNetwork will run. This name\n",
    "corresponds with the name in your `fpga_config` file. Recall that in the `fpga_config`\n",
    "file, device names are identified by the square brackets (e.g., **[de1]** or\n",
    "**[pynq]**). The names defined in your configuration file might differ from the example\n",
    "below. Here, the device **de1** is being used."
   ]
  },
  {
   "cell_type": "code",
   "execution_count": null,
   "metadata": {},
   "outputs": [],
   "source": [
    "board = \"de1\"  # Change this to your desired device name"
   ]
  },
  {
   "cell_type": "markdown",
   "metadata": {},
   "source": [
    "## Step 3: Create the Impulse Input for the Model\n",
    "Using a piecewise step function, a 100ms impulse is generated as the \"kick\" signal. The\n",
    "frequency input to the oscillator is also generated using a piecewise step function. For\n",
    "the first 2 seconds of the simulation, the oscillator is set to 1Hz, followed by 0.5Hz\n",
    "in the next 2 seconds, then stationary, then 0.5Hz and subsequently 1Hz in the reverse\n",
    "direction."
   ]
  },
  {
   "cell_type": "code",
   "execution_count": null,
   "metadata": {},
   "outputs": [],
   "source": [
    "model = nengo.Network(label=\"Controlled Oscillator\")\n",
    "# Create the kick function for input\n",
    "with model:\n",
    "    kick_node = nengo.Node(Piecewise({0: [1, 0, 0], 0.1: [0, 0, 0]}))\n",
    "\n",
    "    freq_node = nengo.Node(Piecewise({0: 1, 2: 0.5, 4: 0, 6: -0.5, 8: -1}))"
   ]
  },
  {
   "cell_type": "markdown",
   "metadata": {},
   "source": [
    "## Step 4: Create the FPGA Ensemble\n",
    "\n",
    "Create a remote FPGA neural ensemble (`FpgaPesEnsembleNetwork`) using the board defined\n",
    "above, 500 neurons, 3 dimensions, and with no learning rate. We will also specify the\n",
    "recurrent connection here."
   ]
  },
  {
   "cell_type": "code",
   "execution_count": null,
   "metadata": {},
   "outputs": [],
   "source": [
    "tau = 0.1  # Synaptic time constant (s)\n",
    "freq = 1  # Oscillation frequency (Hz)\n",
    "freq_scale = np.sqrt(3)  # Frequency input scaling factor\n",
    "\n",
    "with model:\n",
    "    # Remote FPGA neural ensemble\n",
    "    fpga_ens = FpgaPesEnsembleNetwork(\n",
    "        board,  # The board to use (from above)\n",
    "        n_neurons=500,  # The number of neurons to use in the ensemble\n",
    "        dimensions=3,  # 3 dimensions\n",
    "        learning_rate=0,  # No learning for this example\n",
    "        feedback=1,  # Activate the recurrent connection\n",
    "    )\n",
    "\n",
    "    # Setting `feedback=1` creates a `feedback` connection object\n",
    "    # with the identity transform. To implement the oscillator, it\n",
    "    # is necessary to set the transform on the feedback connection\n",
    "    # using .transform.\n",
    "    fpga_ens.feedback.synapse = tau  # `nengo.LowPass(tau)`\n",
    "\n",
    "    # Define the feedback function\n",
    "    def func_fdbk(x):\n",
    "        # These are the three variables represented by the ensemble\n",
    "        x0, x1, x2 = x\n",
    "        return [\n",
    "            x0 + tau * 2 * np.pi * x2 * freq_scale * x1,\n",
    "            x1 - tau * 2 * np.pi * x2 * freq_scale * x0,\n",
    "            0,\n",
    "        ]\n",
    "\n",
    "    # Assign the feedback function to the feedback connection\n",
    "    fpga_ens.feedback.function = func_fdbk"
   ]
  },
  {
   "cell_type": "markdown",
   "metadata": {},
   "source": [
    "## Step 5: Connect Everything Together\n",
    "The recurrent connection is housed on the FPGA device and is created as part of the\n",
    "`FpgaPesEnsembleNetwork` object, so the connections that needs to be made are from the\n",
    "input nodes (for the impulse input and the frequency control) to the FPGA ensemble."
   ]
  },
  {
   "cell_type": "code",
   "execution_count": null,
   "metadata": {},
   "outputs": [],
   "source": [
    "with model:\n",
    "    # Connect the stimulus\n",
    "    nengo.Connection(kick_node, fpga_ens.input, synapse=tau, transform=1)\n",
    "\n",
    "    # Connect the frequency input. Note the scaling factor used to\n",
    "    # keep the represented values in the unit sphere\n",
    "    nengo.Connection(freq_node, fpga_ens.input[2], transform=1.0 / freq_scale)"
   ]
  },
  {
   "cell_type": "markdown",
   "metadata": {},
   "source": [
    "## Step 6: Add Probes to Collect Data"
   ]
  },
  {
   "cell_type": "code",
   "execution_count": null,
   "metadata": {},
   "outputs": [],
   "source": [
    "with model:\n",
    "    # The frequency input\n",
    "    freq_p = nengo.Probe(freq_node)\n",
    "\n",
    "    # The output from the FPGA ensemble\n",
    "    # (filtered with a 10ms post-synaptic filter)\n",
    "    output_p = nengo.Probe(fpga_ens.output, synapse=0.01)"
   ]
  },
  {
   "cell_type": "markdown",
   "metadata": {},
   "source": [
    "## Step 7: Run the Model"
   ]
  },
  {
   "cell_type": "code",
   "execution_count": null,
   "metadata": {},
   "outputs": [],
   "source": [
    "with nengo_fpga.Simulator(model) as sim:\n",
    "    sim.run(10)"
   ]
  },
  {
   "cell_type": "markdown",
   "metadata": {},
   "source": [
    "## Step 8: Plot the Results"
   ]
  },
  {
   "cell_type": "code",
   "execution_count": null,
   "metadata": {},
   "outputs": [],
   "source": [
    "def plot_results():\n",
    "    plt.figure(figsize=(8, 5))\n",
    "    plt.plot(sim.trange(), sim.data[freq_p], \"k--\")\n",
    "    plt.plot(sim.trange(), sim.data[output_p])\n",
    "    plt.legend([\"Frequency (Hz)\", \"$x_0$\", \"$x_1$\", \"$x_2$\"], loc=\"upper right\")\n",
    "    plt.xlabel(\"Time (s)\")\n",
    "    plt.show()\n",
    "\n",
    "\n",
    "plot_results()"
   ]
  },
  {
   "cell_type": "markdown",
   "metadata": {},
   "source": [
    "The plot above shows that the interaction of all three dimensions of the oscillator\n",
    "cause the decoded output of the oscillator to exhibit the desired controlled oscillatory\n",
    "behaviour.\n",
    "\n",
    "From the plot, it can be seen that for each 2 second block, the oscillation frequency is\n",
    "approximately 1Hz, 0.5Hz, somewhat stationary, 0.5Hz in the reverse direction, and 1Hz\n",
    "in the reverse direction.\n",
    "\n",
    "While a static plot is somewhat informative, the behaviour of the oscillator becomes\n",
    "more apparent by plotting the first dimension of the output against the second dimension\n",
    "of the output. To make the behaviour more striking, the code below animates the\n",
    "2-dimensional plot, with an additional plot to indicate the current frequency input. It\n",
    "may take a moment to generate the animation."
   ]
  },
  {
   "cell_type": "code",
   "execution_count": null,
   "metadata": {},
   "outputs": [],
   "source": [
    "def make_anim():\n",
    "    _, ax, ax2, anim = make_anim_controlled_osc(\n",
    "        sim.data[output_p][:, 0], sim.data[output_p][:, 1], sim.data[freq_p]\n",
    "    )\n",
    "    ax.set_title(\"Oscillator\")\n",
    "    ax2.set_title(\"Speed (Hz)\")\n",
    "    return anim\n",
    "\n",
    "\n",
    "HTML(make_anim().to_html5_video())"
   ]
  },
  {
   "cell_type": "markdown",
   "metadata": {},
   "source": [
    "## Step 9: Spiking Neurons\n",
    "\n",
    "The plots above demonstrate the results of a controlled oscillator implemented in a\n",
    "network of non-spiking rectified linear neurons. The network can also be simulated using\n",
    "spiking neurons to illustrate the similarities and differences between a spiking and a\n",
    "non-spiking network.\n",
    "\n",
    "Below, we configure the FPGA neural ensemble to use spiking neurons, run the simulation,\n",
    "and plot the results."
   ]
  },
  {
   "cell_type": "code",
   "execution_count": null,
   "metadata": {},
   "outputs": [],
   "source": [
    "with model:\n",
    "    fpga_ens.ensemble.neuron_type = nengo.SpikingRectifiedLinear()\n",
    "\n",
    "with nengo_fpga.Simulator(model) as sim:\n",
    "    sim.run(10)\n",
    "plot_results()"
   ]
  },
  {
   "cell_type": "code",
   "execution_count": null,
   "metadata": {},
   "outputs": [],
   "source": [
    "HTML(make_anim().to_html5_video())"
   ]
  },
  {
   "cell_type": "markdown",
   "metadata": {},
   "source": [
    "The plots above show that with spiking neurons, the output of the network is,\n",
    "expectedly, more noisy (less precise) than the results of the non-spiking network.\n",
    "However, despite this, the oscillator network in its current configuration is stable\n",
    "even with the spikes adding additional noise into the system.\n",
    "\n",
    "It should be noted that the output of the spiking network differs from the output of the\n",
    "non-spiking network because the network parameters are regenerated (randomized) when a\n",
    "new Nengo simulation is created."
   ]
  },
  {
   "cell_type": "markdown",
   "metadata": {},
   "source": [
    "## Step 10: Experiment!\n",
    "\n",
    "Try playing around with the number of neurons in the FPGA ensemble as well as the\n",
    "synaptic time constant (`tau`) to see how it effects performance (e.g., observe how\n",
    "changing these numbers affect the stability of the oscillator)! Additionally, try\n",
    "modifying the oscillation frequency input and make the appropriate changes to the\n",
    "scaling factor to see if they have the desired effect. You can also change the\n",
    "simulation time and see how long the oscillator is stable for!\n",
    "\n",
    "Perform these experiments for both the non-spiking and spiking networks, and observe how\n",
    "the additional noise introduced by the spikes affect the performance of the network with\n",
    "relation to the various network and oscillator parameters."
   ]
  }
 ],
 "metadata": {
  "language_info": {
   "name": "python",
   "pygments_lexer": "ipython3"
  }
 },
 "nbformat": 4,
 "nbformat_minor": 2
}
